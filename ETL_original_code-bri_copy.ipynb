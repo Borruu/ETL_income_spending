{
 "cells": [
  {
   "cell_type": "code",
   "execution_count": null,
   "id": "f2ea627d",
   "metadata": {},
   "outputs": [],
   "source": [
    "# import dependencies\n",
    "import pandas as pd\n",
    "from sqlalchemy import create_engine\n",
    "from sqlalchemy import inspect"
   ]
  },
  {
   "cell_type": "code",
   "execution_count": null,
   "id": "5a35ed7e",
   "metadata": {},
   "outputs": [],
   "source": [
    "# Load and read weekly earnings data file, store into pandas dataframe, look at head\n",
    "# 1. Weekly \n",
    "weekly_earnings_csv = pd.read_csv(\"Resources/weekly_earnings.csv\")\n",
    "weekly_earnings_df = pd.DataFrame(weekly_earnings_csv)\n",
    "weekly_earnings_df.head(10)"
   ]
  },
  {
   "cell_type": "code",
   "execution_count": null,
   "id": "bd9d64b1",
   "metadata": {},
   "outputs": [],
   "source": [
    "# Load and read Labour Force data file, store into pandas dataframe, look at head\n",
    "#2. labour force\n",
    "labour_force_csv = pd.read_csv(\"Resources/labour_force.csv\")\n",
    "labour_force_df = pd.DataFrame(labour_force_csv)\n",
    "labour_force_df.head(10)"
   ]
  },
  {
   "cell_type": "code",
   "execution_count": null,
   "id": "c6c21532",
   "metadata": {},
   "outputs": [],
   "source": [
    "# Load and read retail turnover data file, store into pandas dataframe, look at head\n",
    "#3. retail turnover\n",
    "retail_turnover_csv = pd.read_csv(\"Resources/retail_turnover.csv\")\n",
    "retail_turnover_df = pd.DataFrame(retail_turnover_csv)\n",
    "retail_turnover_df.head(10)"
   ]
  },
  {
   "cell_type": "code",
   "execution_count": null,
   "id": "77fa7163",
   "metadata": {},
   "outputs": [],
   "source": [
    "# Clean weekly earnings dataset (units are $ dollars)\n",
    "#Remove unneccesary rows (0-8, second column, 5th column, 8th column)\n",
    "weekly_earnings_cleaned = weekly_earnings_df.drop(weekly_earnings_df.index[0:9])\n",
    "weekly_earnings_cleaned.head()"
   ]
  },
  {
   "cell_type": "code",
   "execution_count": null,
   "id": "4de83639",
   "metadata": {},
   "outputs": [],
   "source": [
    "#Remove 2nd, 5th, 8th columns\n",
    "weekly_earnings_reduced = weekly_earnings_cleaned.drop(weekly_earnings_cleaned.columns[[1, 4, 7]], axis = 1)\n",
    "weekly_earnings_reduced.head()"
   ]
  },
  {
   "cell_type": "code",
   "execution_count": null,
   "id": "d23e121f",
   "metadata": {},
   "outputs": [],
   "source": [
    "#check what the current headings are for columns\n",
    "weekly_earnings_reduced.columns"
   ]
  },
  {
   "cell_type": "code",
   "execution_count": null,
   "id": "ac704225",
   "metadata": {},
   "outputs": [],
   "source": [
    "#Renaming Weekly Earnings Headings to match SQL tables\n",
    "\n",
    "weekly_earnings_reduced.columns = ['Date', 'Male_Earnings_Full_Time_$', 'Male_Earnings_Total_$', \n",
    "                                   'Female_Earnings_Full_Time_$', 'Female_Earnings_Total_$', \n",
    "                                   'People_Earnings_Full_Time_$', 'People_Earnings_Total_$']\n",
    "weekly_earnings_reduced.head()"
   ]
  },
  {
   "cell_type": "code",
   "execution_count": null,
   "id": "85373bcb",
   "metadata": {},
   "outputs": [],
   "source": [
    "labour_force_df.head(10)"
   ]
  },
  {
   "cell_type": "code",
   "execution_count": null,
   "id": "a160eebf",
   "metadata": {},
   "outputs": [],
   "source": [
    "# remove unwanted rows (0-9)\n",
    "labour_force_cleaned = labour_force_df.drop(labour_force_df.index[0:9])\n",
    "labour_force_cleaned.head()"
   ]
  },
  {
   "cell_type": "code",
   "execution_count": null,
   "id": "4bc75871",
   "metadata": {},
   "outputs": [],
   "source": [
    "#keep certain columns(0, 2, 5, 8, 11, 14, 17) drop the rest\n",
    "labour_force_reduced = labour_force_cleaned.iloc[:, [0,2,5,8,11,14,17]]\n",
    "labour_force_reduced.head()"
   ]
  },
  {
   "cell_type": "code",
   "execution_count": null,
   "id": "21e3c0b9",
   "metadata": {},
   "outputs": [],
   "source": [
    "# rename the columns\n",
    "labour_force_reduced.columns"
   ]
  },
  {
   "cell_type": "code",
   "execution_count": null,
   "id": "afb8bc2d",
   "metadata": {},
   "outputs": [],
   "source": [
    "#rename columns to match SQL table\n",
    "labour_force_reduced.columns = ['Date', 'Employed_Total_Persons_thousands', 'Employed_Total_Males_thousands', 'Employed_Total_Females_thousands', \n",
    "                                'Employed_Full_Time_Persons_thousands', 'Employed_Full_Time_Males_thousands', 'Employed_Full_Time_Females_thousands']\n",
    "labour_force_reduced.head()"
   ]
  },
  {
   "cell_type": "code",
   "execution_count": null,
   "id": "4d176fb7",
   "metadata": {},
   "outputs": [],
   "source": [
    "retail_turnover_df.head(10)"
   ]
  },
  {
   "cell_type": "code",
   "execution_count": null,
   "id": "1efe1671",
   "metadata": {},
   "outputs": [],
   "source": [
    "# remove unwanted rows (0-9)\n",
    "retail_turnover_cleaned = retail_turnover_df.drop(retail_turnover_df.index[0:9])\n",
    "retail_turnover_cleaned.head()"
   ]
  },
  {
   "cell_type": "code",
   "execution_count": null,
   "id": "3bc966ff",
   "metadata": {},
   "outputs": [],
   "source": [
    "#Filter data to keep two columns(0, 14)\n",
    "retail_turnover_reduced = retail_turnover_cleaned.iloc[:, [0,14]]\n",
    "retail_turnover_reduced.head()"
   ]
  },
  {
   "cell_type": "code",
   "execution_count": null,
   "id": "e900a6a0",
   "metadata": {},
   "outputs": [],
   "source": [
    "#rename headers\n",
    "retail_turnover_reduced.columns = ['Date', 'Retail_Turnover_WA_$millions']\n",
    "retail_turnover_reduced.head()"
   ]
  },
  {
   "cell_type": "code",
   "execution_count": null,
   "id": "76079511",
   "metadata": {},
   "outputs": [],
   "source": [
    "retail_turnover_reduced.dtypes"
   ]
  },
  {
   "cell_type": "code",
   "execution_count": null,
   "id": "a39bee7e",
   "metadata": {},
   "outputs": [],
   "source": [
    "df = pd.merge(weekly_earnings_reduced, labour_force_reduced, on='Date', how='inner')\n",
    "df\n"
   ]
  },
  {
   "cell_type": "code",
   "execution_count": null,
   "id": "16dc9a6a",
   "metadata": {},
   "outputs": [],
   "source": [
    "df.count()"
   ]
  },
  {
   "cell_type": "code",
   "execution_count": null,
   "id": "5f2affbb",
   "metadata": {},
   "outputs": [],
   "source": [
    "final_df = pd.merge(df, retail_turnover_reduced, on='Date', how='inner')\n",
    "final_df.head()"
   ]
  },
  {
   "cell_type": "code",
   "execution_count": null,
   "id": "fbdb2759",
   "metadata": {},
   "outputs": [],
   "source": [
    "final_df.dtypes"
   ]
  },
  {
   "cell_type": "code",
   "execution_count": null,
   "id": "588de59a",
   "metadata": {},
   "outputs": [],
   "source": [
    "final_df.columns"
   ]
  },
  {
   "cell_type": "code",
   "execution_count": null,
   "id": "ab396ce0",
   "metadata": {},
   "outputs": [],
   "source": [
    "df2 = final_df.astype({'Date':'datetime64[ns]',\n",
    "                       'Male_Earnings_Full_Time_$':'float64', 'Male_Earnings_Total_$':'float64',\n",
    "                       'Female_Earnings_Full_Time_$':'float64', 'Female_Earnings_Total_$':'float64',\n",
    "                       'People_Earnings_Full_Time_$':'float64', 'People_Earnings_Total_$':'float64',\n",
    "                       'Employed_Total_Persons_thousands':'float64', 'Employed_Total_Males_thousands':'float64',\n",
    "                       'Employed_Total_Females_thousands':'float64','Employed_Full_Time_Persons_thousands':'float64',\n",
    "                       'Employed_Full_Time_Males_thousands':'float64','Employed_Full_Time_Females_thousands':'float64',\n",
    "                       'Retail_Turnover_WA_$millions':'float64'})\n",
    "df2.dtypes     "
   ]
  },
  {
   "cell_type": "code",
   "execution_count": null,
   "id": "6b47ca4a",
   "metadata": {},
   "outputs": [],
   "source": [
    "weekly_earnings_df2 = weekly_earnings_reduced.astype({'Date':'datetime64[ns]',\n",
    "                       'Male_Earnings_Full_Time_$':'float64', 'Male_Earnings_Total_$':'float64',\n",
    "                       'Female_Earnings_Full_Time_$':'float64', 'Female_Earnings_Total_$':'float64',\n",
    "                       'People_Earnings_Full_Time_$':'float64', 'People_Earnings_Total_$':'float64'})\n",
    "weekly_earnings_df2.dtypes"
   ]
  },
  {
   "cell_type": "code",
   "execution_count": null,
   "id": "d0afdadf",
   "metadata": {},
   "outputs": [],
   "source": [
    "labour_force_df2 = labour_force_reduced.astype({'Date':'datetime64[ns]','Employed_Total_Persons_thousands':'float64', 'Employed_Total_Males_thousands':'float64',\n",
    "                       'Employed_Total_Females_thousands':'float64','Employed_Full_Time_Persons_thousands':'float64',\n",
    "                       'Employed_Full_Time_Males_thousands':'float64','Employed_Full_Time_Females_thousands':'float64'})\n",
    "labour_force_df2.dtypes"
   ]
  },
  {
   "cell_type": "code",
   "execution_count": null,
   "id": "4e6cfbdc",
   "metadata": {},
   "outputs": [],
   "source": [
    "retail_turnover_df2 = retail_turnover_reduced.astype({'Date':'datetime64[ns]','Retail_Turnover_WA_$millions':'float64'})\n",
    "retail_turnover_df2.dtypes"
   ]
  },
  {
   "cell_type": "markdown",
   "id": "be1bfeea",
   "metadata": {},
   "source": [
    "## Load"
   ]
  },
  {
   "cell_type": "code",
   "execution_count": null,
   "id": "59d049e9",
   "metadata": {},
   "outputs": [],
   "source": [
    "df2.head()"
   ]
  },
  {
   "cell_type": "code",
   "execution_count": null,
   "id": "4a36ba45",
   "metadata": {},
   "outputs": [],
   "source": [
    "# Save cleaned individual dataframes and final dataframe as csv files\n",
    "weekly_earnings_df2.to_csv('Output/weekly_earnings_output.csv') \n",
    "labour_force_df2.to_csv('Output/labour_force_output.csv') \n",
    "retail_turnover_df2.to_csv('Output/retail_turnover_output.csv') \n",
    "df2.to_csv('Output/final_output.csv') "
   ]
  },
  {
   "cell_type": "markdown",
   "id": "f7fce222",
   "metadata": {},
   "source": [
    "\n",
    "Connect to local database"
   ]
  },
  {
   "cell_type": "code",
   "execution_count": null,
   "id": "4ce49af0",
   "metadata": {},
   "outputs": [],
   "source": [
    "# import password and database name\n",
    "from config import password, database_name"
   ]
  },
  {
   "cell_type": "code",
   "execution_count": null,
   "id": "ba5923d7",
   "metadata": {},
   "outputs": [],
   "source": [
    "protocol = 'postgresql'\n",
    "username = 'postgres'\n",
    "# password = 3720\n",
    "host = 'localhost'\n",
    "port = 5432\n",
    "# database_name = 'Final_db'\n",
    "rds_connection_string = f'{protocol}://{username}:{password}@{host}:{port}/{database_name}'\n",
    "engine = create_engine(rds_connection_string)\n",
    "insp = inspect(engine)"
   ]
  },
  {
   "cell_type": "markdown",
   "id": "7916df2b",
   "metadata": {},
   "source": [
    "Check tables "
   ]
  },
  {
   "cell_type": "code",
   "execution_count": null,
   "id": "a1f346ac",
   "metadata": {},
   "outputs": [],
   "source": [
    "insp.get_table_names()"
   ]
  },
  {
   "cell_type": "code",
   "execution_count": null,
   "id": "6651c7e1",
   "metadata": {},
   "outputs": [],
   "source": [
    "\n",
    "from sqlalchemy.types import Integer, DateTime, Float"
   ]
  },
  {
   "cell_type": "code",
   "execution_count": null,
   "id": "c65e5ca0",
   "metadata": {},
   "outputs": [],
   "source": [
    "pip install psycopg2"
   ]
  },
  {
   "cell_type": "code",
   "execution_count": null,
   "id": "036aaaa7",
   "metadata": {},
   "outputs": [],
   "source": [
    "# error - need to chnage dtypes on tables first. Date & float.\n",
    "# load weekly earnings dataset into database\n",
    "weekly_earnings_df2.to_sql('Weekly_Earnings', con=engine, if_exists='append', index=False)"
   ]
  },
  {
   "cell_type": "code",
   "execution_count": null,
   "id": "069e6e1c",
   "metadata": {},
   "outputs": [],
   "source": [
    "labour_force_df2.to_sql('Labour_Force', con=engine, if_exists='append', index=False)"
   ]
  },
  {
   "cell_type": "code",
   "execution_count": null,
   "id": "967c2849",
   "metadata": {},
   "outputs": [],
   "source": [
    "retail_turnover_df2.to_sql('Retail_Turnover', con=engine, if_exists='append', index=False)"
   ]
  },
  {
   "cell_type": "code",
   "execution_count": null,
   "id": "3d4f2e21",
   "metadata": {},
   "outputs": [],
   "source": [
    "df2.to_sql('Final_Table', con=engine, if_exists='append', index=False)"
   ]
  },
  {
   "cell_type": "code",
   "execution_count": null,
   "id": "ec1f12b3",
   "metadata": {},
   "outputs": [],
   "source": []
  }
 ],
 "metadata": {
  "kernelspec": {
   "display_name": "Python [conda env:PythonData] *",
   "language": "python",
   "name": "conda-env-PythonData-py"
  },
  "language_info": {
   "codemirror_mode": {
    "name": "ipython",
    "version": 3
   },
   "file_extension": ".py",
   "mimetype": "text/x-python",
   "name": "python",
   "nbconvert_exporter": "python",
   "pygments_lexer": "ipython3",
   "version": "3.7.7"
  }
 },
 "nbformat": 4,
 "nbformat_minor": 5
}
